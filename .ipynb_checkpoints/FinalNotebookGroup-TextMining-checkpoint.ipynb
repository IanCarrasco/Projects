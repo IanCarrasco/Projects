{
 "cells": [
  {
   "cell_type": "markdown",
   "metadata": {},
   "source": [
    "# Text Mining for Hypothesis Generation - Improvements and Validation\n",
    "Group Members: Raya Kavosh, Ian Carrasco, Braden Riggs, Ron Hasson, Cameron Goharbin, Justin Yang, Mor Greenbaum, Maxwell Chen\n",
    "\n",
    "(FOR PUBLIC RELEASE)"
   ]
  },
  {
   "cell_type": "markdown",
   "metadata": {},
   "source": [
    "## Overview \n",
    ">&emsp; In this work, we aim to develop new approaches to automated hypothesis generation utilizing statistical properties of existing neuroscience literature. Particularly, we try to extend upon the approach presented in Voytek, et al. (2012)  by presenting a hypothesis-first algorithm for computing hypothesis \"attractiveness\" which identifies qualitatively better hypotheses. Using our proposed algorithm to generate hypotheses using PubMed data collected from the years 1700 to 2000, we then then validate said hypotheses on data from 2000 to present. This validation is used as a benchmark to quantify the strength of our proposed algorithm, and demonstrate the potential to generate future hypotheses to be pursued."
   ]
  },
  {
   "cell_type": "markdown",
   "metadata": {},
   "source": [
    "## Research Question\n",
    ">##### Can we generate valid hypotheses and assess their prevalance across time by utilizing a percent change measure gathered from large-scale, time-based analysis of neuroscience literature?"
   ]
  },
  {
   "cell_type": "markdown",
   "metadata": {},
   "source": [
    "## Background & Prior Work\n",
    ">&emsp; With neuroscientific research being published at an increasingly high volume, there is a growing need to create automated techniques to perform meta-analysis of said research. This need grows out of individual researchers not having enough bandwidth to stay on top of the growth of the field at large, potentially missing novel interactions between topics that can advance current research.\n",
    "\n",
    ">&emsp;In recent years, approaches have been proposed to solve a problem known as *automated hypothesis generation*, which, at a high level, attempts to find said missing interactions by performing large scale analysis across field-wide literature databases (i.e. PubMed). Voytek, et al.[1] proposed an algorithm based upon finding terms in the literature that show a large amount of shared publications between two child terms and a parent term with a considerably less amount of publications between the two child terms. More recent work by Wilson et al. [2] and Sybrant et al. [3], utilized natural language processing (NLP) approaches to parse abstracts to find significant interactions between cancer genes and various biomedical research topics, respectively.\n",
    "Additionally, other approaches have proposed deep learning based solutions operating on graph representations of term interactions as seen in [4]. <br/>\n",
    "\n",
    ">&emsp; In our project our goals are two-fold. Firstly, to develop a new algorithm for identifying and ranking candidate hypotheses accurately. Secondly, to propose a framework and dataset that allows candidate hypotheses to be validated by their characteristics in future time periods. Particularly, we use term co-occurence aggregated from the years 1700-2000 to generate hypotheses which we then validate using co-occurence data from 2000-present, by computing percent change between the two periods."
   ]
  },
  {
   "cell_type": "markdown",
   "metadata": {},
   "source": [
    "### Data Collection \n",
    ">&emsp;We based our data collection on the same 591 neuroscience terms that were analyzed in Voytek[1], to provide a reasonable benchmark to compare our models against. Using these terms, we utilized the NCBI E-Utils to fetch intersection and union counts for the ~174k hypotheses (term-pairs) for the years 1700-2000 and 2000-2021 that were based on a term's presence in either the title and/or abstract of a given paper. For example, given a term pair (t1 , t2), we would query all papers in a given time period whose titles and/or abstracts contain both t1 AND t2, and compute the sum of t1 NOT t2 and t2 NOT t1. From here, we constructed three matrices where the entries in each represented the intersection, union, and intersection over union (connectivity).\n",
    "\n",
    ">&emsp;In order to make the fetching of multiple time periods reasonable we designed a scraper which we call, MicroLisc (*full source: ./data_collection/microlisc.py*), that utilizes multi-threading to make requests with a throughput of ~200 requests/sec. Additionally, we were able to vastly  reduce the amount of requests via caching since |X NOT Y| + |Y NOT X| = |X| + |Y|, when there are no intersections between X AND Y. Hence, by checking for intersection first, we could then retrieve the cardinalities of X and Y from a cache, leaving most hypotheses only requiring only 1 http request (not intersecting), and at max 3 http requests (if intersecting). The combination of these two optimizations allowed us to collect the complete set of hypothesis data for an entire time period in under 1.5 hours. We believe this decrease in data collection time will facilitate further analysis of multiple time periods."
   ]
  },
  {
   "cell_type": "markdown",
   "metadata": {},
   "source": [
    "### Hypothesis\n",
    "We believe that our proposed algorithm can provide greater utility in generating hypotheses that are predictive of future neuroscience trends. \n",
    "\n",
    "We think this will be the outcome because our algorithm produces hypotheses for "
   ]
  },
  {
   "cell_type": "markdown",
   "metadata": {},
   "source": [
    "## Data Analysis"
   ]
  },
  {
   "cell_type": "code",
   "execution_count": 101,
   "metadata": {},
   "outputs": [
    {
     "data": {
      "text/html": [
       "<style>.container { width:75% !important; }</style>"
      ],
      "text/plain": [
       "<IPython.core.display.HTML object>"
      ]
     },
     "metadata": {},
     "output_type": "display_data"
    }
   ],
   "source": [
    "import os # Filesystem Interaction\n",
    "import pandas as pd # Dataframe Processing\n",
    "import numpy as np # Numerical Computation\n",
    "import time # Benchmarking\n",
    "import argparse # Command Line Argument Parsing\n",
    "from data_collection.microlisc import MicroLisc # Our Scraper\n",
    "from data_collection.utils import check_symmetric, percentage_change\n",
    "from itertools import combinations\n",
    "from scipy.stats import spearmanr\n",
    "import seaborn as sns\n",
    "import matplotlib.pyplot as plt\n",
    "import ast\n",
    "import itertools\n",
    "import ipywidgets as widgets\n",
    "from IPython.display import display, HTML, clear_output\n",
    "import data_collection.microlisc as microlisc\n",
    "import importlib\n",
    "from numpy import genfromtxt\n",
    "import plotly.express as px\n",
    "from IPython.display import Image\n",
    "from IPython.core.display import display, HTML\n",
    "display(HTML(\"<style>.container { width:75% !important; }</style>\"))"
   ]
  },
  {
   "cell_type": "markdown",
   "metadata": {},
   "source": [
    "### Data Wrangling\n",
    "We configure our data directories and nest terms with their synonyms which produces a list of 591 terms(including synonyms). We then initializes our scraper(data_collection/microlisc.py) with this specific term set, and run a job with a specified config, which outlines the two time periods in which to gather the conjunction, intersection, and connectivity counts. (See below)"
   ]
  },
  {
   "cell_type": "markdown",
   "metadata": {},
   "source": [
    "#### Configuration and Brain Term Initialization"
   ]
  },
  {
   "cell_type": "code",
   "execution_count": 98,
   "metadata": {},
   "outputs": [],
   "source": [
    "# Load the 591 terms from the original analysis\n",
    "proj_dir = os.getcwd()\n",
    "data_dir = os.path.join(proj_dir,'./data')\n",
    "header = ['term', 'synonyms', 'domain']\n",
    "df = pd.read_csv(os.path.join(data_dir, 'brain_terms.csv'), names= header)\n",
    "term_types = df.domain.unique()\n",
    "mapping = dict(df[['term','domain']].values)\n",
    "mapping_lower = {k.lower(): v for k, v in mapping.items()}\n",
    "\n",
    "\n",
    "# Nest all unique terms from the terms dataframe\n",
    "lis = [[f'\"{j}\"' for j in list(set(list(df[df.term == i]['synonyms']) \\\n",
    "                                 + list(df[df.term == i]['term'])))] for i in df.term.unique()]\n",
    "\n",
    "assert len(lis) == 591"
   ]
  },
  {
   "cell_type": "code",
   "execution_count": 6,
   "metadata": {},
   "outputs": [],
   "source": [
    "def fetch_data(**kwargs):\n",
    "    '''\n",
    "    Takes a configuration object (below) and fetches the relevant data\n",
    "    \n",
    "    '''\n",
    "    # Instantiate MicroLisc\n",
    "    ml = MicroLisc(terms=kwargs['terms'])\n",
    "\n",
    "    # Run The Scraping Job\n",
    "    print(f'Fetching from {kwargs[\"start\"]} to {kwargs[\"end\"]}')\n",
    "    t_start = time.time()\n",
    "    conj, disj = ml.run_collection(num_of_pairs=-1, date_range=(kwargs['start'], kwargs['end']))\n",
    "    t_end = (time.time() - t_start)\n",
    "\n",
    "    # Clean and Process the Conjunction and Disjunction Matrices\n",
    "    d_idxs = np.diag_indices(conj.shape[0])\n",
    "    conj[d_idxs] = 0\n",
    "    disj[d_idxs] = 0\n",
    "\n",
    "    # Turn left triangular matrix into symmetrical matrix since (t1, t2) <-> (t2, t1)\n",
    "    conj += conj.T\n",
    "    disj += disj.T\n",
    "    \n",
    "    # Build Connectivity (IoU) Matrix\n",
    "    np.seterr(divide='ignore', invalid='ignore')\n",
    "    conn = conj_pre/disj_pre\n",
    "    conn[d_idxs] = 1\n",
    "    conn = np.nan_to_num(conn)\n",
    "\n",
    "    # Make Sure Matrices Are Symmetrical\n",
    "    assert check_symmetric(conn) == True\n",
    "    assert check_symmetric(conj) == True\n",
    "    assert check_symmetric(disj) == True\n",
    "    \n",
    "    \n",
    "    print(f'Total Time: {end:0.3f}s')\n",
    "    print('Saving Matrices...')\n",
    "    \n",
    "    # Write matrices to files\n",
    "    np.savetxt(f'./conj_{out_prefix}.csv', conj, delimiter=',')\n",
    "    np.savetxt(f'./disj_{out_prefix}.csv', disj, delimiter=',')\n",
    "    np.savetxt(f'./conn_{out_prefix}.csv', conn, delimiter=',')"
   ]
  },
  {
   "cell_type": "markdown",
   "metadata": {},
   "source": [
    "#### Skip These Cells to Use Already Downloaded Data"
   ]
  },
  {
   "cell_type": "code",
   "execution_count": 7,
   "metadata": {},
   "outputs": [],
   "source": [
    "'''\n",
    "Configuration Fields:\n",
    "    start: The start date in YYYY/MM/DD format\n",
    "    end: The end date in YYYY/MM/DD format\n",
    "    out_prefix: Prefix for output files\n",
    "'''\n",
    "\n",
    "# Initialize Configuration for Scraping\n",
    "CONFIG_PRE = {'start':'1700/01/01', \n",
    "              'end':'1999/12/31', \n",
    "              'out_prefix':'pre_2000',\n",
    "              'terms': lis}\n",
    "\n",
    "CONFIG_POST = {'start':'2000/01/01', \n",
    "               'end':'2021/03/08', \n",
    "               'out_prefix':'post_2000',\n",
    "               'terms': lis}"
   ]
  },
  {
   "cell_type": "code",
   "execution_count": null,
   "metadata": {
    "scrolled": true
   },
   "outputs": [],
   "source": [
    "fetch_data(**CONFIG_PRE)"
   ]
  },
  {
   "cell_type": "code",
   "execution_count": null,
   "metadata": {},
   "outputs": [],
   "source": [
    "fetch_data(**CONFIG_POST)"
   ]
  },
  {
   "cell_type": "markdown",
   "metadata": {},
   "source": [
    "### Data Visualization"
   ]
  },
  {
   "cell_type": "code",
   "execution_count": 3,
   "metadata": {},
   "outputs": [],
   "source": [
    "# Load pre- and post- 2000 dataframes\n",
    "d_pre = genfromtxt('./new_data/disj_pre.csv', delimiter=',')\n",
    "d_post = genfromtxt('./new_data/disj_post.csv', delimiter=',')\n",
    "c_pre = genfromtxt('./new_data/conj_pre.csv', delimiter=',')\n",
    "c_post = genfromtxt('./new_data/conj_post.csv', delimiter=',')\n",
    "cn_pre = genfromtxt('./new_data/conn_pre.csv', delimiter=',')\n",
    "cn_post = genfromtxt('./new_data/conn_post.csv', delimiter=',')"
   ]
  },
  {
   "cell_type": "code",
   "execution_count": 8,
   "metadata": {
    "scrolled": true
   },
   "outputs": [
    {
     "data": {
      "image/png": "[encoded data removed]",
      "text/plain": [
       "<Figure size 432x288 with 1 Axes>"
      ]
     },
     "metadata": {
      "needs_background": "light"
     },
     "output_type": "display_data"
    }
   ],
   "source": [
    "sns.countplot(y=df.drop_duplicates('term').domain)\n",
    "plt.title('Distribution of terms by their term category')\n",
    "plt.tight_layout()\n",
    "plt.ylabel('')\n",
    "plt.savefig('visuals/terms_dist.png')"
   ]
  },
  {
   "cell_type": "markdown",
   "metadata": {},
   "source": [
    "Amongst, the terms we based our generation upon a majority of them belonged to the functional category."
   ]
  },
  {
   "cell_type": "code",
   "execution_count": 9,
   "metadata": {},
   "outputs": [],
   "source": [
    "outlier_removed_pre = cn_pre[(cn_pre >= 0) & (cn_pre <= 1)]\n",
    "outlier_removed_post = cn_post[(cn_pre >= 0) & (cn_pre <= 1)]"
   ]
  },
  {
   "cell_type": "code",
   "execution_count": null,
   "metadata": {},
   "outputs": [],
   "source": [
    "cn_df =pd.DataFrame(dict(\n",
    "    series=np.concatenate(([f\"pre-2000 mean:{outlier_removed_pre.mean():0.3f}\"]*len(outlier_removed_pre), [f\"post-2000 mean:{outlier_removed_post.mean():0.3f}\"]*len(outlier_removed_post))), \n",
    "    data=np.concatenate((outlier_removed_pre,outlier_removed_post))\n",
    "))\n",
    "fig = px.histogram(cn_df,x=\"data\", color=\"series\", \n",
    "                   nbins=100, log_y=True,\n",
    "                   labels=dict(x=\"Connectivity\"),\n",
    "                   barmode=\"overlay\", title='Connectivity Pre-2000 vs. Post-2000')\n",
    "fig.update_xaxes(nticks=20, range=[0,1], title_text=\"Connectivity\")\n",
    "fig.update_yaxes(title_text=\"Count\")\n",
    "\n",
    "#fig.show()\n",
    "\n"
   ]
  },
  {
   "cell_type": "markdown",
   "metadata": {},
   "source": [
    "<img src=\"https://drive.google.com/uc?id=1rDTnMCIl7QUVoZZHAAhYQ1ZcKJnsJinZ\">"
   ]
  },
  {
   "cell_type": "markdown",
   "metadata": {},
   "source": [
    "The distribution of Jaccard indices in both the pre- and post- 2000 data have a similar fall off as the the index increases. We then see a bin centered at 1 which is of size 591 that is representative of the jaccard index of a term and itself."
   ]
  },
  {
   "cell_type": "markdown",
   "metadata": {},
   "source": [
    "#### Connectivity Explorer\n",
    "Interactive widget to look at the percentage change in connectivity across pre-2000 and post-2000 data"
   ]
  },
  {
   "cell_type": "code",
   "execution_count": 109,
   "metadata": {
    "scrolled": true
   },
   "outputs": [
    {
     "data": {
      "application/vnd.jupyter.widget-view+json": {
       "model_id": "463134c6b245490bb2a7ba109a05064f",
       "version_major": 2,
       "version_minor": 0
      },
      "text/plain": [
       "VBox(children=(HBox(children=(Dropdown(description='Term 1:', options=(['\"abducens nucleus\"', '\"Nucleus abduce…"
      ]
     },
     "metadata": {},
     "output_type": "display_data"
    }
   ],
   "source": [
    "# Instantiate a new MicroLisc object for indexing helpers\n",
    "importlib.reload(microlisc)\n",
    "ml = microlisc.MicroLisc(terms=lis)\n",
    "\n",
    "# Sort terms alphabetically\n",
    "sorted_terms = sorted(lis, key=lambda x: x[0].lower())\n",
    "\n",
    "# Event Handler for Button Click\n",
    "def on_button_clicked(b):\n",
    "    with output:\n",
    "        output.clear_output()\n",
    "        # Fetch Relevant Entry in Connectivity Matrix\n",
    "        r = ml.term_to_idx[tuple(term1.value)]\n",
    "        c = ml.term_to_idx[tuple(term2.value)]\n",
    "        \n",
    "        # Calculate percent growth across pre- and post-\n",
    "        change = percentage_change(pre=cn_pre[r][c], post=cn_post[r][c])\n",
    "        \n",
    "        # Display.\n",
    "        output.append_display_data(HTML(f'<h4>Connectivity: {cn_pre[r][c]:0.3e} (Pre) | {cn_post[r][c]:0.3e} (Post) | {change:0.3f}% (Percent Change) </h4>'))\n",
    "\n",
    "\n",
    "# Generate GUI \n",
    "term1 = widgets.Dropdown(\n",
    "    options=sorted_terms,\n",
    "    value=sorted_terms[0],\n",
    "    description='Term 1:',\n",
    "    disabled=False,\n",
    ")\n",
    "term2 = widgets.Dropdown(\n",
    "    options=sorted_terms,\n",
    "    value=sorted_terms[1],\n",
    "    description='Term 2:',\n",
    "    disabled=False,\n",
    ")\n",
    "\n",
    "button = widgets.Button(\n",
    "    description='Get Connectivity',\n",
    "    disabled=False,\n",
    "    button_style='info', # 'success', 'info', 'warning', 'danger' or ''\n",
    "    tooltip='Get Data',\n",
    "    icon='arrow-right' # (FontAwesome names without the `fa-` prefix)\n",
    ")\n",
    "\n",
    "output = widgets.Output()\n",
    "\n",
    "button.on_click(on_button_clicked)\n",
    "hb = widgets.HBox([term1, term2, button])\n",
    "widgets.VBox([hb, output])"
   ]
  },
  {
   "cell_type": "markdown",
   "metadata": {},
   "source": [
    "## Approaches and Methods"
   ]
  },
  {
   "cell_type": "markdown",
   "metadata": {},
   "source": [
    "### Neighbors of Neighbors connectivity transformation\n",
    "\n",
    "Our hypothesis generation algorithms rely on jaccard index connectivity, however this only reflects the popularity of terms in the scientific literature. <i>Not</i> the actual relatedness of two terms. And so there is an implicit assumption stating that two terms are related when the scientific literature references them together often. <br>\n",
    "\n",
    "The <b>neighbors of neighbors tranformation</b> tries to fix this, while still relying on the scientific literature. In essence, it reflects the held belief in distributional semantics that <i>\"you shall know a word by the company it keeps.\"</i><br>\n",
    "\n",
    "Conceretely, the relatedness of two terms $a$ and $b$ is the jaccard index of the $n$ neighbors most similar to term $a$ and the $n$ neighbors most similar to term $b$. \n"
   ]
  },
  {
   "cell_type": "markdown",
   "metadata": {},
   "source": [
    "Here are the terms most related to memory. Just on inspection, it seems to be recommending better terms than the original connectivity matrix it was based off of."
   ]
  },
  {
   "cell_type": "code",
   "execution_count": 140,
   "metadata": {},
   "outputs": [],
   "source": [
    "import neighbors\n",
    "importlib.reload(neighbors)\n",
    "from neighbors import NeighborAnalysis"
   ]
  },
  {
   "cell_type": "markdown",
   "metadata": {},
   "source": [
    "Words with highest connectivity to AIDS from the pre-2000 connecvity matrix"
   ]
  },
  {
   "cell_type": "code",
   "execution_count": 179,
   "metadata": {},
   "outputs": [
    {
     "data": {
      "text/plain": [
       "memory                 1.000000\n",
       "learning               0.098232\n",
       "short term memory      0.056706\n",
       "working memory         0.049321\n",
       "amnesia                0.047396\n",
       "hippocampus            0.046770\n",
       "dementia               0.035915\n",
       "long term memory       0.033667\n",
       "Alzheimer's disease    0.031437\n",
       "recognition memory     0.030314\n",
       "Name: memory, dtype: float64"
      ]
     },
     "execution_count": 179,
     "metadata": {},
     "output_type": "execute_result"
    }
   ],
   "source": [
    "conj_df = pd.read_csv('./new_data/conn_pre.csv', header=None)\n",
    "conj_df.columns, conj_df.index = df.term.unique(), df.term.unique()\n",
    "conj_df['memory'].nlargest(10)"
   ]
  },
  {
   "cell_type": "code",
   "execution_count": 180,
   "metadata": {
    "scrolled": false
   },
   "outputs": [
    {
     "name": "stdout",
     "output_type": "stream",
     "text": [
      "Most related to memory by category 'function': \n",
      " Index(['Alzheimer's disease', 'amnesia', 'long term memory', 'entorhinal area',\n",
      "       'short term memory', 'basal forebrain nucleus', 'cognition', 'dementia',\n",
      "       'dentate gyrus', 'forgetting'],\n",
      "      dtype='object') \n",
      "\n",
      "Most related to memory by category 'neurochemical': \n",
      " Index(['histamine', 'facial nucleus', 'hippocampus', 'learning',\n",
      "       'somatosensation', 'Alzheimer's disease', 'acetylcholine', 'amnesia',\n",
      "       'caudate nucleus', 'claustrum'],\n",
      "      dtype='object') \n",
      "\n",
      "Most related to memory by category 'pathology': \n",
      " Index(['declarative memory', 'acetylcholine', 'delayed recognition',\n",
      "       'fastigial nucleus', 'learning', 'stria terminalis',\n",
      "       'Alzheimer's disease', 'GABA', 'abstract thinking',\n",
      "       'attentional capacity'],\n",
      "      dtype='object') \n",
      "\n",
      "Most related to memory by category 'structure': \n",
      " Index(['learning', 'Alzheimer's disease', 'corpus callosum', 'seizure',\n",
      "       'Huntington's disease', 'alcoholism', 'attention', 'cognition',\n",
      "       'consciousness', 'dementia'],\n",
      "      dtype='object') \n",
      "\n",
      "Most related to memory by category 'white matter': \n",
      " Index(['dementia', 'emotion', 'orbital gyri', 'AIDS', 'Alzheimer's disease',\n",
      "       'BDNF', 'Huntington's disease', 'Parkinson's disease',\n",
      "       'abducens nucleus', 'acetylcholine'],\n",
      "      dtype='object') \n",
      "\n"
     ]
    }
   ],
   "source": [
    "na = NeighborAnalysis()\n",
    "na.get_related_terms(query='memory')"
   ]
  },
  {
   "cell_type": "markdown",
   "metadata": {},
   "source": [
    "The results above, indicate the related terms to a source term, in this case AIDS, that share a parent from a specific term category."
   ]
  },
  {
   "cell_type": "code",
   "execution_count": 141,
   "metadata": {},
   "outputs": [
    {
     "name": "stderr",
     "output_type": "stream",
     "text": [
      "/Users/icpc/Desktop/cs/experiments/Projects-W21-text-mining/neighbors.py:62: UserWarning:\n",
      "\n",
      "This figure includes Axes that are not compatible with tight_layout, so results might be incorrect.\n",
      "\n"
     ]
    },
    {
     "data": {
      "image/png": "[encoded data removed]",
      "text/plain": [
       "<Figure size 864x432 with 3 Axes>"
      ]
     },
     "metadata": {
      "needs_background": "light"
     },
     "output_type": "display_data"
    }
   ],
   "source": [
    "na.generate_heat_maps()"
   ]
  },
  {
   "cell_type": "markdown",
   "metadata": {},
   "source": [
    "##### Correlation of neighbors-of-neighbors dataframes (hyperparameter search). <br>\n",
    "We see that datasets within the same term category are most closely correlated with one another, where (within-term category) the correlations highest for the closest number of neighbors analyzed. <br> Suprisingly, the correlations between dataframes are relatively low."
   ]
  },
  {
   "cell_type": "code",
   "execution_count": null,
   "metadata": {},
   "outputs": [],
   "source": [
    "names_full = [*[names + '_pre' for names in names_before], *[names + '_post' for names in names_after]]\n",
    "terms_full = [*term_nvals_before, *term_nvals_after]\n",
    "\n",
    "plt.figure(figsize = (14,10))\n",
    "sns.heatmap(spearmanr(terms_full, axis=1)[0], square = True, \\\n",
    "            yticklabels=names_full, xticklabels=False, vmax=0.8)\n",
    "plt.title('Correlations between all neighbor-of-neighbor tranformation dataframes')\n",
    "plt.tight_layout()\n",
    "plt.show()"
   ]
  },
  {
   "cell_type": "markdown",
   "metadata": {},
   "source": [
    "How are the transformed jaccard indices disrtibuted across all transformations?"
   ]
  },
  {
   "cell_type": "code",
   "execution_count": null,
   "metadata": {},
   "outputs": [],
   "source": [
    "fig=plt.figure(figsize=(12,7), constrained_layout=False)\n",
    "col, row = 3,2\n",
    "type_index = [list(filter(lambda i: term in names_full[i], range(len(names_full)))) for term in term_types]\n",
    "for i, term in enumerate(term_types):\n",
    "    ind = list(filter(lambda j: term in names_full[j], range(len(names_full))))\n",
    "    corrs = np.asarray(list(itertools.compress(terms_full, ind))).flatten()\n",
    "    fig.add_subplot(row, col, i+1)\n",
    "    plt.ticklabel_format(axis=\"y\", style=\"sci\")\n",
    "    plt.title(f'Jaccard index distribution: {term}')\n",
    "    sns.distplot(corrs, kde=False)\n",
    "    plt.xlim(0, 0.5)\n",
    "plt.tight_layout()\n"
   ]
  },
  {
   "cell_type": "markdown",
   "metadata": {},
   "source": [
    "Unfortunately, we did not use the 'neighbor or neighbors' transformation on our hypothesis generation, however we predict that it might lead to more valid hypotheses that does not necessarily depend so heavily on the current scientific literature."
   ]
  },
  {
   "cell_type": "markdown",
   "metadata": {},
   "source": [
    "### 'Hypothesis-First' Attractiveness Algorithm\n",
    "\n",
    "At its core, the hypothesis-first attractiveness algorithm relies on the same principle as Voytek's algorithm: \"a friend-of-a-friend should be a friend\". <br>\n",
    "\n",
    "The hypothesis-first algorithm improves on this idea by evaluating \"friend of a friend\" criterion over all parent terms:\n",
    "\n",
    "<img src=\"https://drive.google.com/uc?id=1orAvoXuUt-u-laSwMacmIu9lIdevPd_a\" alt=\"description of algorithm\" width = '800'>\n",
    "\n",
    "The total number of parent terms that strongly relate two terms is the score of \"attractiveness\" between two terms. If two terms are strongly related to one another, they should share this link for <i>many</i> parent terms. By using this method, we are able to store <i>which</i> parent terms relate the two terms. Moreover, since our terms can be partitioned into 5 term categories (e.g., function), we are also able to analyze <i>in which categories</i> are the terms related. This gives us several advantages: \n",
    "- robustness to spurious correlations (popular topics dominating generated hypotheses)\n",
    "- ordinal - not binary - measurement scale allows us to rank and compare how good the hypotheses are\n",
    "- comparability across time scales (did the attractiveness go up or down?)\n",
    "- greater specificity: now that we know this hypothesis is attractive, <i>where</i> should we start looking? We should look for similarities in their parents to find out.\n",
    "\n",
    "Given three terms, P, H1, and H2, the algorithm employed in the Voytek & Voytek paper recommends terms H1 and H2 as a hypothesis if the following requirements are met:\n",
    "- There exists a term P which has a conjunction with term H1 of over 1000 papers, and a conjunction with term H2 of over 1000 papers. \n",
    "- Terms H1 and H2 have a conjunction of less than 30 papers.\n",
    "\n",
    "\n",
    "\n",
    "A potential area for improvement of this generation method is its lack of robustness in regards to it being skewed towards popular or commonly used terms in the literature. The hypothesis first model takes a different approach, in order to address this issue. In our model, the threshold that we use to determine a good hypothesis depends on the parent term. For candidate hypothesis terms $h_1$ and $h_2$ and parent term $p$, a triplet is defined as being a good hypothesis when:\n",
    "- The jaccard index between $p$ and $h_1$ is in the top $n$ percentile of jaccard indices associated with parent $p$. \n",
    "- The jaccard index between $p$ and $h_2$ is in the top $n$ percentile of jaccard indices associated with parent $p$. \n",
    "- The jaccard index between $h_1$ and $h_2$ is in the bottom $l$ percentile of jaccard indices associated with parent $p$.\n",
    "\n",
    "The bottom threshold needs to be adjusted to reflect the bottom $l$ percentile of jaccard indices associated with hypothesis $h_1$ or $h_2$, however the current parameters $l$ is tested on (0.4, 0.55) almost always necessitates $h_1$ and $h_2$ to have a jaccard index of 0. The upper threshold parameters are currently (0.95, 0.85), respectively. This gives us a <i>strict</i> and a <i>lax</i> attractiveness measure: \n",
    "- $l = 0.40$, $n = 0.95$\n",
    "- $l = 0.55$, $n = 0.85$"
   ]
  },
  {
   "cell_type": "code",
   "execution_count": 176,
   "metadata": {},
   "outputs": [],
   "source": [
    "import hfalgo\n",
    "importlib.reload(hfalgo)\n",
    "from hfalgo import HypothesisFirst"
   ]
  },
  {
   "cell_type": "code",
   "execution_count": 177,
   "metadata": {},
   "outputs": [],
   "source": [
    "hf = HypothesisFirst(generate_hypothesis_matrices=True)"
   ]
  },
  {
   "cell_type": "code",
   "execution_count": 157,
   "metadata": {
    "scrolled": false
   },
   "outputs": [
    {
     "name": "stderr",
     "output_type": "stream",
     "text": [
      "/Users/icpc/.pyenv/versions/3.6.5/lib/python3.6/site-packages/seaborn/distributions.py:2557: FutureWarning:\n",
      "\n",
      "`distplot` is a deprecated function and will be removed in a future version. Please adapt your code to use either `displot` (a figure-level function with similar flexibility) or `histplot` (an axes-level function for histograms).\n",
      "\n"
     ]
    },
    {
     "data": {
      "image/png": "[encoded data removed]",
      "text/plain": [
       "<Figure size 864x576 with 4 Axes>"
      ]
     },
     "metadata": {
      "needs_background": "light"
     },
     "output_type": "display_data"
    }
   ],
   "source": [
    "hf.plot_attractiveness_distribution()"
   ]
  },
  {
   "cell_type": "markdown",
   "metadata": {},
   "source": [
    "Distribution of attractiveness scores of predicted hypotheses for each metric (relaxed and strict)"
   ]
  },
  {
   "cell_type": "code",
   "execution_count": 147,
   "metadata": {},
   "outputs": [],
   "source": [
    "import Voytek_Algorithm\n",
    "importlib.reload(Voytek_Algorithm)\n",
    "from Voytek_Algorithm import Voytek_alg"
   ]
  },
  {
   "cell_type": "markdown",
   "metadata": {},
   "source": [
    "##### These are the top 10 most attractive hypotheses in the strict and lax algorithms, based on data pre-2000"
   ]
  },
  {
   "cell_type": "code",
   "execution_count": 183,
   "metadata": {
    "scrolled": false
   },
   "outputs": [
    {
     "data": {
      "text/html": [
       "<div>\n",
       "<style scoped>\n",
       "    .dataframe tbody tr th:only-of-type {\n",
       "        vertical-align: middle;\n",
       "    }\n",
       "\n",
       "    .dataframe tbody tr th {\n",
       "        vertical-align: top;\n",
       "    }\n",
       "\n",
       "    .dataframe thead th {\n",
       "        text-align: right;\n",
       "    }\n",
       "</style>\n",
       "<table border=\"1\" class=\"dataframe\">\n",
       "  <thead>\n",
       "    <tr style=\"text-align: right;\">\n",
       "      <th></th>\n",
       "      <th>t1</th>\n",
       "      <th>t2</th>\n",
       "      <th>attractiveness</th>\n",
       "    </tr>\n",
       "  </thead>\n",
       "  <tbody>\n",
       "    <tr>\n",
       "      <th>52117</th>\n",
       "      <td>verbal memory</td>\n",
       "      <td>eye movement</td>\n",
       "      <td>71.0</td>\n",
       "    </tr>\n",
       "    <tr>\n",
       "      <th>133254</th>\n",
       "      <td>prefrontal cortex</td>\n",
       "      <td>agnosia</td>\n",
       "      <td>70.0</td>\n",
       "    </tr>\n",
       "    <tr>\n",
       "      <th>73805</th>\n",
       "      <td>agnosia</td>\n",
       "      <td>selective attention</td>\n",
       "      <td>62.0</td>\n",
       "    </tr>\n",
       "    <tr>\n",
       "      <th>141201</th>\n",
       "      <td>straight gyrus</td>\n",
       "      <td>mammillary body</td>\n",
       "      <td>62.0</td>\n",
       "    </tr>\n",
       "    <tr>\n",
       "      <th>58113</th>\n",
       "      <td>working memory</td>\n",
       "      <td>handedness</td>\n",
       "      <td>60.0</td>\n",
       "    </tr>\n",
       "    <tr>\n",
       "      <th>52225</th>\n",
       "      <td>verbal memory</td>\n",
       "      <td>object recognition</td>\n",
       "      <td>59.0</td>\n",
       "    </tr>\n",
       "    <tr>\n",
       "      <th>98070</th>\n",
       "      <td>anterior cingulate gyrus</td>\n",
       "      <td>language processing</td>\n",
       "      <td>58.0</td>\n",
       "    </tr>\n",
       "    <tr>\n",
       "      <th>133201</th>\n",
       "      <td>prefrontal cortex</td>\n",
       "      <td>visual search</td>\n",
       "      <td>58.0</td>\n",
       "    </tr>\n",
       "    <tr>\n",
       "      <th>134599</th>\n",
       "      <td>primary motor cortex</td>\n",
       "      <td>long term memory</td>\n",
       "      <td>56.0</td>\n",
       "    </tr>\n",
       "    <tr>\n",
       "      <th>133564</th>\n",
       "      <td>premotor cortex</td>\n",
       "      <td>long term memory</td>\n",
       "      <td>54.0</td>\n",
       "    </tr>\n",
       "  </tbody>\n",
       "</table>\n",
       "</div>"
      ],
      "text/plain": [
       "                              t1                   t2  attractiveness\n",
       "52117              verbal memory         eye movement            71.0\n",
       "133254         prefrontal cortex              agnosia            70.0\n",
       "73805                    agnosia  selective attention            62.0\n",
       "141201            straight gyrus      mammillary body            62.0\n",
       "58113             working memory           handedness            60.0\n",
       "52225              verbal memory   object recognition            59.0\n",
       "98070   anterior cingulate gyrus  language processing            58.0\n",
       "133201         prefrontal cortex        visual search            58.0\n",
       "134599      primary motor cortex     long term memory            56.0\n",
       "133564           premotor cortex     long term memory            54.0"
      ]
     },
     "execution_count": 183,
     "metadata": {},
     "output_type": "execute_result"
    }
   ],
   "source": [
    "hf.generate_top_k_hypotheses(k=10, mode='relaxed')"
   ]
  },
  {
   "cell_type": "code",
   "execution_count": 184,
   "metadata": {},
   "outputs": [
    {
     "data": {
      "text/html": [
       "<div>\n",
       "<style scoped>\n",
       "    .dataframe tbody tr th:only-of-type {\n",
       "        vertical-align: middle;\n",
       "    }\n",
       "\n",
       "    .dataframe tbody tr th {\n",
       "        vertical-align: top;\n",
       "    }\n",
       "\n",
       "    .dataframe thead th {\n",
       "        text-align: right;\n",
       "    }\n",
       "</style>\n",
       "<table border=\"1\" class=\"dataframe\">\n",
       "  <thead>\n",
       "    <tr style=\"text-align: right;\">\n",
       "      <th></th>\n",
       "      <th>t1</th>\n",
       "      <th>t2</th>\n",
       "      <th>attractiveness</th>\n",
       "    </tr>\n",
       "  </thead>\n",
       "  <tbody>\n",
       "    <tr>\n",
       "      <th>113974</th>\n",
       "      <td>inferior parietal lobule</td>\n",
       "      <td>broca's area</td>\n",
       "      <td>24.0</td>\n",
       "    </tr>\n",
       "    <tr>\n",
       "      <th>39989</th>\n",
       "      <td>set shifting</td>\n",
       "      <td>digit span</td>\n",
       "      <td>20.0</td>\n",
       "    </tr>\n",
       "    <tr>\n",
       "      <th>39022</th>\n",
       "      <td>sentence comprehension</td>\n",
       "      <td>picture naming</td>\n",
       "      <td>18.0</td>\n",
       "    </tr>\n",
       "    <tr>\n",
       "      <th>148734</th>\n",
       "      <td>temporal pole</td>\n",
       "      <td>middle frontal gyrus</td>\n",
       "      <td>18.0</td>\n",
       "    </tr>\n",
       "    <tr>\n",
       "      <th>17687</th>\n",
       "      <td>memory trace</td>\n",
       "      <td>executive function</td>\n",
       "      <td>17.0</td>\n",
       "    </tr>\n",
       "    <tr>\n",
       "      <th>144433</th>\n",
       "      <td>superior frontal gyrus</td>\n",
       "      <td>premotor cortex</td>\n",
       "      <td>17.0</td>\n",
       "    </tr>\n",
       "    <tr>\n",
       "      <th>126701</th>\n",
       "      <td>parahippocampal gyrus</td>\n",
       "      <td>broca's area</td>\n",
       "      <td>16.0</td>\n",
       "    </tr>\n",
       "    <tr>\n",
       "      <th>56033</th>\n",
       "      <td>wisconsin card sorting</td>\n",
       "      <td>divided attention</td>\n",
       "      <td>16.0</td>\n",
       "    </tr>\n",
       "    <tr>\n",
       "      <th>38022</th>\n",
       "      <td>semantic processing</td>\n",
       "      <td>crossmodal</td>\n",
       "      <td>15.0</td>\n",
       "    </tr>\n",
       "    <tr>\n",
       "      <th>136444</th>\n",
       "      <td>pulvinar</td>\n",
       "      <td>fastigial nucleus</td>\n",
       "      <td>15.0</td>\n",
       "    </tr>\n",
       "  </tbody>\n",
       "</table>\n",
       "</div>"
      ],
      "text/plain": [
       "                              t1                    t2  attractiveness\n",
       "113974  inferior parietal lobule          broca's area            24.0\n",
       "39989               set shifting            digit span            20.0\n",
       "39022     sentence comprehension        picture naming            18.0\n",
       "148734             temporal pole  middle frontal gyrus            18.0\n",
       "17687               memory trace    executive function            17.0\n",
       "144433    superior frontal gyrus       premotor cortex            17.0\n",
       "126701     parahippocampal gyrus          broca's area            16.0\n",
       "56033     wisconsin card sorting     divided attention            16.0\n",
       "38022        semantic processing            crossmodal            15.0\n",
       "136444                  pulvinar     fastigial nucleus            15.0"
      ]
     },
     "execution_count": 184,
     "metadata": {},
     "output_type": "execute_result"
    }
   ],
   "source": [
    "hf.generate_top_k_hypotheses(k=10, mode='strict')"
   ]
  },
  {
   "cell_type": "markdown",
   "metadata": {},
   "source": [
    "Are these hypotheses valid? Looking at <i>only</i> the top hypothesis for the two metrics, it appears to be the case. <br>\n",
    "\n",
    "The best hypothesis for the strict metric is a link between the <b>inferior parietal lobule</b> and <b>broca's area</b>. According the [first result on google](https://thebrain.mcgill.ca/flash/i/i_10/i_10_cr/i_10_cr_lan/i_10_cr_lan.html) when searching up these two terms, it appears to be the case:\n",
    "\n",
    "> For many years, scientists’ understanding of how the brain processes language was rather simple: they believed that Wernicke’s area interpreted the words that we hear or read, then relayed this information via a dense bundle of fibres to Broca’s area, which generated any words that we spoke in response. But subsequent experiments with brain imaging have revealed the existence of a third region of the brain that is also indispensable for language. <br> <br>\n",
    "> This region is the inferior parietal lobule, also known as “Geschwind’s territory”, in honour of the American neurologist Norman Geschwind, who foresaw its importance as early as the 1960s. Brain imaging studies have now shown that the inferior parietal lobule (angular gyrus and supramarginal gyrus) is connected by large bundles of nerve fibres to both Broca’s area and Wernicke’s area. Information might therefore travel between these last two areas either directly, via the arcuate fasciculus, or by a second, parallel route that passes through the inferior parietal lobule.\n",
    "\n",
    "This is supported by Web of Science analytics, which shows that no articles were published (pre-2000, hence the chart starting at 2000) containing these two terms in their title: \n",
    "\n",
    "(publications per year)\n",
    "<img src=\"https://drive.google.com/uc?id=1fiEENgpwikgLOYOUfqU4uv_7EkHoI5d7\" alt=\"description of algorithm\" width = '800'>\n",
    "The best hypothesis for the lax metric is a link between the <b>verbal memory</b> and <b>eye movement</b>. According a research article published in 2016 named \"[Listen up, eye movements play a role in verbal memory retrieval](https://www.researchgate.net/publication/269820004_Listen_up_eye_movements_play_a_role_in_verbal_memory_retrieval)\" when searching up these two terms, it appears to be the case. Here is the Web of Science publication-over-time chart: \n",
    "\n",
    "<img src=\"https://drive.google.com/uc?id=1GpOpn4-bk3e5TlxV86OdABXWXtC5xtEF\" alt=\"description of algorithm\" width = '800'>\n",
    "\n",
    "The following graph demonstrates the ability of the hypothesis first model to find and recommend hypotheses for rarely studied terms. The inferior parietal lobule had only been studied in around 100 papers up to the year 2000. In the following years, the inferior parietal lobule was heavily explored, climbing up to numbers in the thousands of papers. The hypothesis first model  predicted a strong connection between broca’s area and the inferior parietal lobule, which ended up being studied in the post 2000 years.  The model utilized by Voytek and Voytek would have been unable to predict this hypothesis, simply due to the small amount of papers written about the inferior parietal lobule: \n",
    "\n",
    "<img src=\"https://drive.google.com/uc?id=1Zx-5ky402vhImHAhOJzIuKcfO6cvEhg-\" width='800'>\n",
    "\n",
    "\n",
    "\n",
    "\n",
    "\n",
    "\n",
    "\n",
    "\n",
    "Although a few papers were published pre-2000, the increase post-2000 is quite significant. There is good evidence that this algorithm is producing fruitful hypotheses."
   ]
  },
  {
   "cell_type": "markdown",
   "metadata": {},
   "source": [
    "##### These are the top 10 most attractive hypotheses for the future (post-2020) using the strict and lax algorithms, based on data from 2000-present"
   ]
  },
  {
   "cell_type": "code",
   "execution_count": 149,
   "metadata": {},
   "outputs": [],
   "source": [
    "lax_pre, lax_post, strict_pre, strict_post = hf.get_hypothesis_matrices()"
   ]
  },
  {
   "cell_type": "code",
   "execution_count": 156,
   "metadata": {},
   "outputs": [
    {
     "data": {
      "text/html": [
       "<div>\n",
       "<style scoped>\n",
       "    .dataframe tbody tr th:only-of-type {\n",
       "        vertical-align: middle;\n",
       "    }\n",
       "\n",
       "    .dataframe tbody tr th {\n",
       "        vertical-align: top;\n",
       "    }\n",
       "\n",
       "    .dataframe thead th {\n",
       "        text-align: right;\n",
       "    }\n",
       "</style>\n",
       "<table border=\"1\" class=\"dataframe\">\n",
       "  <thead>\n",
       "    <tr style=\"text-align: right;\">\n",
       "      <th></th>\n",
       "      <th>t1</th>\n",
       "      <th>t2</th>\n",
       "      <th>attractiveness</th>\n",
       "    </tr>\n",
       "  </thead>\n",
       "  <tbody>\n",
       "    <tr>\n",
       "      <th>160355</th>\n",
       "      <td>corpus callosum</td>\n",
       "      <td>dorsomedial nucleus of the hypothalamus</td>\n",
       "      <td>66.0</td>\n",
       "    </tr>\n",
       "    <tr>\n",
       "      <th>141201</th>\n",
       "      <td>straight gyrus</td>\n",
       "      <td>mammillary body</td>\n",
       "      <td>60.0</td>\n",
       "    </tr>\n",
       "    <tr>\n",
       "      <th>136444</th>\n",
       "      <td>pulvinar</td>\n",
       "      <td>fastigial nucleus</td>\n",
       "      <td>53.0</td>\n",
       "    </tr>\n",
       "    <tr>\n",
       "      <th>115415</th>\n",
       "      <td>insula</td>\n",
       "      <td>cochlear nuclei</td>\n",
       "      <td>51.0</td>\n",
       "    </tr>\n",
       "    <tr>\n",
       "      <th>121764</th>\n",
       "      <td>mesencephalic nucleus of the trigeminal nerve</td>\n",
       "      <td>mammillary body</td>\n",
       "      <td>51.0</td>\n",
       "    </tr>\n",
       "    <tr>\n",
       "      <th>153680</th>\n",
       "      <td>ventral posteromedial nucleus</td>\n",
       "      <td>oculomotor nuclear complex</td>\n",
       "      <td>49.0</td>\n",
       "    </tr>\n",
       "    <tr>\n",
       "      <th>166714</th>\n",
       "      <td>internal capsule</td>\n",
       "      <td>superior olive</td>\n",
       "      <td>48.0</td>\n",
       "    </tr>\n",
       "    <tr>\n",
       "      <th>127746</th>\n",
       "      <td>perirhinal area</td>\n",
       "      <td>mammillary body</td>\n",
       "      <td>48.0</td>\n",
       "    </tr>\n",
       "    <tr>\n",
       "      <th>141174</th>\n",
       "      <td>straight gyrus</td>\n",
       "      <td>dorsal motor nucleus of the vagus nerve</td>\n",
       "      <td>48.0</td>\n",
       "    </tr>\n",
       "    <tr>\n",
       "      <th>141073</th>\n",
       "      <td>straight gyrus</td>\n",
       "      <td>gaba</td>\n",
       "      <td>48.0</td>\n",
       "    </tr>\n",
       "  </tbody>\n",
       "</table>\n",
       "</div>"
      ],
      "text/plain": [
       "                                                   t1  \\\n",
       "160355                                corpus callosum   \n",
       "141201                                 straight gyrus   \n",
       "136444                                       pulvinar   \n",
       "115415                                         insula   \n",
       "121764  mesencephalic nucleus of the trigeminal nerve   \n",
       "153680                  ventral posteromedial nucleus   \n",
       "166714                               internal capsule   \n",
       "127746                                perirhinal area   \n",
       "141174                                 straight gyrus   \n",
       "141073                                 straight gyrus   \n",
       "\n",
       "                                             t2  attractiveness  \n",
       "160355  dorsomedial nucleus of the hypothalamus            66.0  \n",
       "141201                          mammillary body            60.0  \n",
       "136444                        fastigial nucleus            53.0  \n",
       "115415                          cochlear nuclei            51.0  \n",
       "121764                          mammillary body            51.0  \n",
       "153680               oculomotor nuclear complex            49.0  \n",
       "166714                           superior olive            48.0  \n",
       "127746                          mammillary body            48.0  \n",
       "141174  dorsal motor nucleus of the vagus nerve            48.0  \n",
       "141073                                     gaba            48.0  "
      ]
     },
     "execution_count": 156,
     "metadata": {},
     "output_type": "execute_result"
    }
   ],
   "source": [
    "hf.generate_top_k_hypotheses(k=10, mode='relaxed', lm=lax_post)"
   ]
  },
  {
   "cell_type": "code",
   "execution_count": 154,
   "metadata": {
    "scrolled": true
   },
   "outputs": [
    {
     "data": {
      "text/html": [
       "<div>\n",
       "<style scoped>\n",
       "    .dataframe tbody tr th:only-of-type {\n",
       "        vertical-align: middle;\n",
       "    }\n",
       "\n",
       "    .dataframe tbody tr th {\n",
       "        vertical-align: top;\n",
       "    }\n",
       "\n",
       "    .dataframe thead th {\n",
       "        text-align: right;\n",
       "    }\n",
       "</style>\n",
       "<table border=\"1\" class=\"dataframe\">\n",
       "  <thead>\n",
       "    <tr style=\"text-align: right;\">\n",
       "      <th></th>\n",
       "      <th>t1</th>\n",
       "      <th>t2</th>\n",
       "      <th>attractiveness</th>\n",
       "    </tr>\n",
       "  </thead>\n",
       "  <tbody>\n",
       "    <tr>\n",
       "      <th>136444</th>\n",
       "      <td>pulvinar</td>\n",
       "      <td>fastigial nucleus</td>\n",
       "      <td>26.0</td>\n",
       "    </tr>\n",
       "    <tr>\n",
       "      <th>170092</th>\n",
       "      <td>stria terminalis</td>\n",
       "      <td>abducens nucleus</td>\n",
       "      <td>21.0</td>\n",
       "    </tr>\n",
       "    <tr>\n",
       "      <th>153680</th>\n",
       "      <td>ventral posteromedial nucleus</td>\n",
       "      <td>oculomotor nuclear complex</td>\n",
       "      <td>20.0</td>\n",
       "    </tr>\n",
       "    <tr>\n",
       "      <th>115894</th>\n",
       "      <td>interstitial nucleus of cajal</td>\n",
       "      <td>claustrum</td>\n",
       "      <td>19.0</td>\n",
       "    </tr>\n",
       "    <tr>\n",
       "      <th>141201</th>\n",
       "      <td>straight gyrus</td>\n",
       "      <td>mammillary body</td>\n",
       "      <td>19.0</td>\n",
       "    </tr>\n",
       "    <tr>\n",
       "      <th>141174</th>\n",
       "      <td>straight gyrus</td>\n",
       "      <td>dorsal motor nucleus of the vagus nerve</td>\n",
       "      <td>17.0</td>\n",
       "    </tr>\n",
       "    <tr>\n",
       "      <th>144935</th>\n",
       "      <td>superior olive</td>\n",
       "      <td>intralaminar nuclear group</td>\n",
       "      <td>17.0</td>\n",
       "    </tr>\n",
       "    <tr>\n",
       "      <th>136486</th>\n",
       "      <td>pulvinar</td>\n",
       "      <td>perirhinal area</td>\n",
       "      <td>17.0</td>\n",
       "    </tr>\n",
       "    <tr>\n",
       "      <th>118323</th>\n",
       "      <td>mammillary body</td>\n",
       "      <td>gracile nucleus of the medulla</td>\n",
       "      <td>16.0</td>\n",
       "    </tr>\n",
       "    <tr>\n",
       "      <th>103270</th>\n",
       "      <td>claustrum</td>\n",
       "      <td>abducens nucleus</td>\n",
       "      <td>16.0</td>\n",
       "    </tr>\n",
       "  </tbody>\n",
       "</table>\n",
       "</div>"
      ],
      "text/plain": [
       "                                   t1  \\\n",
       "136444                       pulvinar   \n",
       "170092               stria terminalis   \n",
       "153680  ventral posteromedial nucleus   \n",
       "115894  interstitial nucleus of cajal   \n",
       "141201                 straight gyrus   \n",
       "141174                 straight gyrus   \n",
       "144935                 superior olive   \n",
       "136486                       pulvinar   \n",
       "118323                mammillary body   \n",
       "103270                      claustrum   \n",
       "\n",
       "                                             t2  attractiveness  \n",
       "136444                        fastigial nucleus            26.0  \n",
       "170092                         abducens nucleus            21.0  \n",
       "153680               oculomotor nuclear complex            20.0  \n",
       "115894                                claustrum            19.0  \n",
       "141201                          mammillary body            19.0  \n",
       "141174  dorsal motor nucleus of the vagus nerve            17.0  \n",
       "144935               intralaminar nuclear group            17.0  \n",
       "136486                          perirhinal area            17.0  \n",
       "118323           gracile nucleus of the medulla            16.0  \n",
       "103270                         abducens nucleus            16.0  "
      ]
     },
     "execution_count": 154,
     "metadata": {},
     "output_type": "execute_result"
    }
   ],
   "source": [
    "hf.generate_top_k_hypotheses(k=10, mode='strict', sm=strict_post)"
   ]
  },
  {
   "cell_type": "markdown",
   "metadata": {},
   "source": [
    "#### Headline from July 2020 mentioning a link between projections from the thalamus (location of pulvinar) and the cerebellum. The top hypothesis for the the strict metric on post-2000 data."
   ]
  },
  {
   "cell_type": "markdown",
   "metadata": {},
   "source": [
    "<img src='https://drive.google.com/uc?id=1cj7VpbFfrCpiUrBu-DvwFZHmSnIwQCz3'>"
   ]
  },
  {
   "cell_type": "code",
   "execution_count": 165,
   "metadata": {},
   "outputs": [
    {
     "data": {
      "image/png": "[encoded data removed]",
      "text/plain": [
       "<Figure size 432x288 with 1 Axes>"
      ]
     },
     "metadata": {
      "needs_background": "light"
     },
     "output_type": "display_data"
    }
   ],
   "source": [
    "hf.smoothed_jaccard()"
   ]
  },
  {
   "cell_type": "markdown",
   "metadata": {},
   "source": [
    "It seems that our top hypotheses (blue) where (index 0 is the most attractive) are performing better than a random sample of hypotheses, in terms of the difference in connectivity pre-2000 vs post-2000. This suggests that our top hypotheses are getting studied more than any random hypothesis on average. This serves in some capacity as a validation of the algorithm predicting hypotheses better than chance."
   ]
  },
  {
   "cell_type": "code",
   "execution_count": 172,
   "metadata": {},
   "outputs": [
    {
     "data": {
      "image/png": "[encoded data removed]",
      "text/plain": [
       "<Figure size 1008x288 with 2 Axes>"
      ]
     },
     "metadata": {
      "needs_background": "light"
     },
     "output_type": "display_data"
    }
   ],
   "source": [
    "hf.parents()"
   ]
  },
  {
   "cell_type": "markdown",
   "metadata": {},
   "source": [
    "When a hypotheses gets counted as attractive, what are the parents that it comes from? At first glance, it seems like there's an bias towards functions counting all the hypotheses, however we see that this is not the case. The bias towards functions as parents is explained by the fact most of the terms in our dataset are function terms."
   ]
  },
  {
   "cell_type": "code",
   "execution_count": 178,
   "metadata": {},
   "outputs": [
    {
     "data": {
      "text/html": [
       "<div>\n",
       "<style scoped>\n",
       "    .dataframe tbody tr th:only-of-type {\n",
       "        vertical-align: middle;\n",
       "    }\n",
       "\n",
       "    .dataframe tbody tr th {\n",
       "        vertical-align: top;\n",
       "    }\n",
       "\n",
       "    .dataframe thead th {\n",
       "        text-align: right;\n",
       "    }\n",
       "</style>\n",
       "<table border=\"1\" class=\"dataframe\">\n",
       "  <thead>\n",
       "    <tr style=\"text-align: right;\">\n",
       "      <th></th>\n",
       "      <th></th>\n",
       "      <th>function_counts</th>\n",
       "      <th>neurochemical_counts</th>\n",
       "      <th>pathology_counts</th>\n",
       "      <th>structure_counts</th>\n",
       "      <th>white matter_counts</th>\n",
       "    </tr>\n",
       "    <tr>\n",
       "      <th>t1_type</th>\n",
       "      <th>t2_type</th>\n",
       "      <th></th>\n",
       "      <th></th>\n",
       "      <th></th>\n",
       "      <th></th>\n",
       "      <th></th>\n",
       "    </tr>\n",
       "  </thead>\n",
       "  <tbody>\n",
       "    <tr>\n",
       "      <th>function</th>\n",
       "      <th>function</th>\n",
       "      <td>5.336251</td>\n",
       "      <td>0.028333</td>\n",
       "      <td>2.776941</td>\n",
       "      <td>0.885166</td>\n",
       "      <td>0.269666</td>\n",
       "    </tr>\n",
       "    <tr>\n",
       "      <th>neurochemical</th>\n",
       "      <th>function</th>\n",
       "      <td>2.006689</td>\n",
       "      <td>7.955293</td>\n",
       "      <td>12.214452</td>\n",
       "      <td>1.013234</td>\n",
       "      <td>0.824176</td>\n",
       "    </tr>\n",
       "    <tr>\n",
       "      <th rowspan=\"3\" valign=\"top\">pathology</th>\n",
       "      <th>function</th>\n",
       "      <td>4.547491</td>\n",
       "      <td>0.296051</td>\n",
       "      <td>6.589575</td>\n",
       "      <td>0.910612</td>\n",
       "      <td>0.461280</td>\n",
       "    </tr>\n",
       "    <tr>\n",
       "      <th>neurochemical</th>\n",
       "      <td>1.280193</td>\n",
       "      <td>14.850427</td>\n",
       "      <td>13.106061</td>\n",
       "      <td>0.772849</td>\n",
       "      <td>1.041667</td>\n",
       "    </tr>\n",
       "    <tr>\n",
       "      <th>pathology</th>\n",
       "      <td>2.989130</td>\n",
       "      <td>1.522436</td>\n",
       "      <td>14.090909</td>\n",
       "      <td>0.151210</td>\n",
       "      <td>0.111607</td>\n",
       "    </tr>\n",
       "    <tr>\n",
       "      <th rowspan=\"4\" valign=\"top\">structure</th>\n",
       "      <th>function</th>\n",
       "      <td>3.594164</td>\n",
       "      <td>0.387260</td>\n",
       "      <td>2.817396</td>\n",
       "      <td>5.106454</td>\n",
       "      <td>2.131451</td>\n",
       "    </tr>\n",
       "    <tr>\n",
       "      <th>neurochemical</th>\n",
       "      <td>0.597456</td>\n",
       "      <td>12.663527</td>\n",
       "      <td>2.226345</td>\n",
       "      <td>7.916392</td>\n",
       "      <td>5.758017</td>\n",
       "    </tr>\n",
       "    <tr>\n",
       "      <th>pathology</th>\n",
       "      <td>2.536497</td>\n",
       "      <td>2.780126</td>\n",
       "      <td>6.973027</td>\n",
       "      <td>4.649651</td>\n",
       "      <td>5.729984</td>\n",
       "    </tr>\n",
       "    <tr>\n",
       "      <th>structure</th>\n",
       "      <td>0.620088</td>\n",
       "      <td>0.187099</td>\n",
       "      <td>0.455299</td>\n",
       "      <td>15.603434</td>\n",
       "      <td>7.255390</td>\n",
       "    </tr>\n",
       "    <tr>\n",
       "      <th rowspan=\"5\" valign=\"top\">white matter</th>\n",
       "      <th>function</th>\n",
       "      <td>2.888780</td>\n",
       "      <td>0.403342</td>\n",
       "      <td>5.372829</td>\n",
       "      <td>4.494382</td>\n",
       "      <td>4.614767</td>\n",
       "    </tr>\n",
       "    <tr>\n",
       "      <th>neurochemical</th>\n",
       "      <td>0.386473</td>\n",
       "      <td>19.871795</td>\n",
       "      <td>4.090909</td>\n",
       "      <td>5.645161</td>\n",
       "      <td>4.464286</td>\n",
       "    </tr>\n",
       "    <tr>\n",
       "      <th>pathology</th>\n",
       "      <td>1.618357</td>\n",
       "      <td>1.709402</td>\n",
       "      <td>8.863636</td>\n",
       "      <td>3.360215</td>\n",
       "      <td>16.369048</td>\n",
       "    </tr>\n",
       "    <tr>\n",
       "      <th>structure</th>\n",
       "      <td>0.482629</td>\n",
       "      <td>0.208563</td>\n",
       "      <td>0.843845</td>\n",
       "      <td>12.590678</td>\n",
       "      <td>16.131237</td>\n",
       "    </tr>\n",
       "    <tr>\n",
       "      <th>white matter</th>\n",
       "      <td>0.386473</td>\n",
       "      <td>0.000000</td>\n",
       "      <td>0.606061</td>\n",
       "      <td>8.064516</td>\n",
       "      <td>23.809524</td>\n",
       "    </tr>\n",
       "  </tbody>\n",
       "</table>\n",
       "</div>"
      ],
      "text/plain": [
       "                             function_counts  neurochemical_counts  \\\n",
       "t1_type       t2_type                                                \n",
       "function      function              5.336251              0.028333   \n",
       "neurochemical function              2.006689              7.955293   \n",
       "pathology     function              4.547491              0.296051   \n",
       "              neurochemical         1.280193             14.850427   \n",
       "              pathology             2.989130              1.522436   \n",
       "structure     function              3.594164              0.387260   \n",
       "              neurochemical         0.597456             12.663527   \n",
       "              pathology             2.536497              2.780126   \n",
       "              structure             0.620088              0.187099   \n",
       "white matter  function              2.888780              0.403342   \n",
       "              neurochemical         0.386473             19.871795   \n",
       "              pathology             1.618357              1.709402   \n",
       "              structure             0.482629              0.208563   \n",
       "              white matter          0.386473              0.000000   \n",
       "\n",
       "                             pathology_counts  structure_counts  \\\n",
       "t1_type       t2_type                                             \n",
       "function      function               2.776941          0.885166   \n",
       "neurochemical function              12.214452          1.013234   \n",
       "pathology     function               6.589575          0.910612   \n",
       "              neurochemical         13.106061          0.772849   \n",
       "              pathology             14.090909          0.151210   \n",
       "structure     function               2.817396          5.106454   \n",
       "              neurochemical          2.226345          7.916392   \n",
       "              pathology              6.973027          4.649651   \n",
       "              structure              0.455299         15.603434   \n",
       "white matter  function               5.372829          4.494382   \n",
       "              neurochemical          4.090909          5.645161   \n",
       "              pathology              8.863636          3.360215   \n",
       "              structure              0.843845         12.590678   \n",
       "              white matter           0.606061          8.064516   \n",
       "\n",
       "                             white matter_counts  \n",
       "t1_type       t2_type                             \n",
       "function      function                  0.269666  \n",
       "neurochemical function                  0.824176  \n",
       "pathology     function                  0.461280  \n",
       "              neurochemical             1.041667  \n",
       "              pathology                 0.111607  \n",
       "structure     function                  2.131451  \n",
       "              neurochemical             5.758017  \n",
       "              pathology                 5.729984  \n",
       "              structure                 7.255390  \n",
       "white matter  function                  4.614767  \n",
       "              neurochemical             4.464286  \n",
       "              pathology                16.369048  \n",
       "              structure                16.131237  \n",
       "              white matter             23.809524  "
      ]
     },
     "execution_count": 178,
     "metadata": {},
     "output_type": "execute_result"
    }
   ],
   "source": [
    "hf.scaled_frequency()"
   ]
  },
  {
   "cell_type": "markdown",
   "metadata": {},
   "source": [
    "And so when we scale by term category frequency, we see something interesting. The parents of a hypothesis are mainly of the same term category as the hypotheses themselves. "
   ]
  },
  {
   "cell_type": "markdown",
   "metadata": {},
   "source": [
    "Overall, there is still a lot of work to be done on the hypothesis first algorithm (e.g. implementing it on the neighbors-of-neighbors data) however it does seem to be a promising approach to hypothesis discovery."
   ]
  },
  {
   "cell_type": "markdown",
   "metadata": {},
   "source": [
    "## Results"
   ]
  },
  {
   "cell_type": "markdown",
   "metadata": {},
   "source": [
    "### Hypothesis Generation Tool"
   ]
  },
  {
   "cell_type": "code",
   "execution_count": 38,
   "metadata": {},
   "outputs": [],
   "source": [
    "# Sort terms alphabetically\n",
    "search_terms = [i for i in df.term.unique()]\n",
    "sorted_terms = sorted(search_terms, key=lambda x: x[0].lower())"
   ]
  },
  {
   "cell_type": "code",
   "execution_count": 76,
   "metadata": {},
   "outputs": [
    {
     "data": {
      "application/vnd.jupyter.widget-view+json": {
       "model_id": "c6eac3d447d74743a4002c23c74e50ac",
       "version_major": 2,
       "version_minor": 0
      },
      "text/plain": [
       "VBox(children=(HBox(children=(Dropdown(description='Search Term:', options=('abstract thinking', 'acoustic pro…"
      ]
     },
     "metadata": {},
     "output_type": "display_data"
    }
   ],
   "source": [
    "# Generate GUI \n",
    "hyp_term = widgets.Dropdown(\n",
    "    options=sorted_terms,\n",
    "    value=sorted_terms[0],\n",
    "    description='Search Term:',\n",
    "    disabled=False,\n",
    ")\n",
    "\n",
    "hyp_button = widgets.Button(\n",
    "    description='View Hypotheses',\n",
    "    disabled=False,\n",
    "    button_style='info',\n",
    "    tooltip='Get Data',\n",
    "    icon='arrow-right'\n",
    ")\n",
    "       \n",
    "\n",
    "output_hyp = widgets.Output()\n",
    "output_hyp1 = widgets.Output()\n",
    "\n",
    "from IPython.display import display_html\n",
    "from itertools import chain,cycle\n",
    "def display_side_by_side(*args,titles=cycle([''])):\n",
    "    html_str=''\n",
    "    for df,title in zip(args, chain(titles,cycle(['</br>'])) ):\n",
    "        html_str+='<th style=\"text-align:center\"><td style=\"vertical-align:top\">'\n",
    "        html_str+=f'<h2>{title}</h2>'\n",
    "        html_str+=df.to_html().replace('table','table style=\"display:inline\"')\n",
    "        html_str+='</td></th>'\n",
    "    display_html(html_str,raw=True)\n",
    "    \n",
    "# Event Handler for Button Click\n",
    "def on_button_clicked(b):\n",
    "    with output_hyp:\n",
    "        output_hyp.clear_output()\n",
    "        display(hf.generate_top_k_hypotheses(k=10, mode='relaxed', term=hyp_term.value))\n",
    "    with output_hyp1:\n",
    "        output_hyp1.clear_output()\n",
    "        display(va.show_hypothesis(hyp_term.value).iloc[:10])\n",
    "\n",
    "\n",
    "\n",
    "hyp_button.on_click(on_button_clicked)\n",
    "hyp_box = widgets.HBox([hyp_term, hyp_button])\n",
    "\n",
    "table1_box = widgets.VBox([widgets.Text('Hypothesis-First Algorithm'),output_hyp])\n",
    "table2_box = widgets.VBox([widgets.Text('Voytek\\'s Algorithm'), output_hyp1])\n",
    "\n",
    "table_box = widgets.HBox([table1_box , table2_box])\n",
    "\n",
    "widgets.VBox([hyp_box, widgets.HBox([]), table_box])"
   ]
  },
  {
   "cell_type": "markdown",
   "metadata": {},
   "source": [
    "## Analysis"
   ]
  },
  {
   "cell_type": "markdown",
   "metadata": {},
   "source": [
    "<img src=\"https://raw.githubusercontent.com/NeuralDataScience/Projects-W21-text-mining/main/accuracyplot.png?token=AD2SIKMB6OCGVMQCHPS5ORTALWEVC\">"
   ]
  },
  {
   "cell_type": "markdown",
   "metadata": {},
   "source": [
    "The performance of both models is difficult to properly convey given the sheer scope of true negatives, i.e. term combinations that experienced no growth in the pre to post 2000 period. This is because it is significantly more likely for a term pair to not see any growth than for a term pair to explode in occurrence. Hence, when visualizing the performance of the model it is only relevant to compare the rate of true positives and false positives. We can visualize this in a side by side bar chart, contrasting the performance of the original Voytek model and the new Attractiveness model.  \n",
    "\n",
    "To evaluate what constitutes a true positive vs a false positive we use the distribution of percentage value increase/decrease seen in term co occurrence in the pre to post 2000s. Anything above a standard deviation of zero in percentage increase constitutes a “positive”. In our dataset 20% of term pairs are above a standard deviation of zero, with the remaining 80% falling below the threshold and being designated a “negative”.\n",
    "\n",
    "\n",
    "The contrast between the Voytek model and the Attractiveness model is significant in two major ways. Primarily we can see a stark contrast between the number of true positives within the model, with the attractiveness model producing many more plausible hypotheses. Additionally, we can see that the Attractiveness model also predicts a greater number of hypotheses that experienced insignificant growth over the pre to post 2000s period. Despite this, the ratio of true positives to false positives is significantly more favorable for the Attractiveness model, suggesting that a randomly selected term pair recommended by the model has a greater chance of experiencing occurrence growth in the post-2000 period. \n"
   ]
  },
  {
   "cell_type": "markdown",
   "metadata": {},
   "source": [
    "## Discussion and Further Directions\n",
    "Based on the approaches implemented so far and the success we have seen, there is a range of different directions we could choose to further develop our architecture for automated hypothesis generation.\n",
    "\n",
    "**A more descriptive dataset:**\n",
    "Currently our architecture is limited by the scope of terms we are investigating and the data we are capturing related to those terms. To be specific the current architecture leans heavily on the scraped term-pair counts of just PubMed published literature. Whilst this is sufficient as a proof of concept, it isn’t comprehensive and there are many ways we can further develop this stage of the project. One idea was to explore the citations of the papers we are scraping and the h-index of the authors publishing said papers. Based on how the current architecture works, terms can co occur frequently in a range of papers, however, these papers can be largely insignificant, rarely being cited or reviewed. By utilizing the citations of each paper and how citations are growing over time we can add an extra dimension of scrutiny to our produced hypotheses, potentially boosting the utility of the output.\n",
    "\n",
    "**Addition of NLP to add extra insight into scraped hypotheses:**\n",
    "One proposed area for further investigation is the addition of NLP driven insights into the data collection process. Currently the models derive insight from data relating to term occurrence, however, the addition of sentiment analysis could help add a level of scrutiny to the number and type of occurring matches. This is because simply capturing term occurrence fails to account for how the terms are occurring together, for example, “Alzheimer's disease is related to the deterioration of the prefrontal cortex” does not share equivalence to “Alzheimer's disease has no relation to the deterioration of the prefrontal cortex”. Through building the functionality for the architecture to understand these relationships, the models would be able to make better decisions relating to the hypothesis it produces.\n",
    "\n",
    "**Construction of a research tool:**\n",
    "Following the testing and finalization of the hypothesis generation framework, the team is interested in developing a Python Package Index API for public use. This API would function as a streamlined way for prospective researchers to query for hypotheses based on our refined models, allowing for deployment in the wider scientific community. \n"
   ]
  },
  {
   "cell_type": "markdown",
   "metadata": {},
   "source": [
    "## Conclusion\n",
    "Our goal was to improve upon the hypothesis generation methods presented in the 2012 Voytek & Voytek paper, in order to identify and rank candidate hypotheses accurately and then to validate them by their characteristics (particularly co-occurrence data) in future time periods. The favorable true positive ratio for the Attractiveness model is indicative of a greater number of plausible hypotheses being generated by the Attractiveness model than by the Voytek model. In other words,  a randomly selected  term pair recommended by the Attractiveness model- therefore, based on the number of parent terms that strongly relate two terms- has a greater chance of experiencing occurrence growth in the post-2000 period. These results support the promise of implementing a hypothesis generation tool that utilizes novel metrics and measures of association between topics to suggest viable, cutting-edge areas of research. Prominent areas for future exploration that we believe will be useful in such a task are gathering and extracting more descriptive data, such as author information, h-index, and various context-specific features, as well as the application of sentiment analysis and other natural language processing (NLP)  tools for producing more meaningful relationships and representations from the data. \n"
   ]
  },
  {
   "cell_type": "markdown",
   "metadata": {},
   "source": [
    "### References\n",
    "1. Jessica B Voytek, Bradley Voytek | *Automated cognome construction and semi-automated hypothesis generation* (2012)\n",
    "2. Wilson, et al.  | *Automated literature mining and hypothesis generation through a network of Medical Subject Headings* (2018)\n",
    "3. Sybrandt, et al. | *MOLIERE: Automatic Biomedical Hypothesis Generation System* (2017)\n",
    "4. Sybrandt, et al. | *AGATHA: Automatic Graph-mining And Transformer based Hypothesis generation Approach* (2020)"
   ]
  }
 ],
 "metadata": {
  "kernelspec": {
   "display_name": "Python 3",
   "language": "python",
   "name": "python3"
  },
  "language_info": {
   "codemirror_mode": {
    "name": "ipython",
    "version": 3
   },
   "file_extension": ".py",
   "mimetype": "text/x-python",
   "name": "python",
   "nbconvert_exporter": "python",
   "pygments_lexer": "ipython3",
   "version": "3.6.5"
  }
 },
 "nbformat": 4,
 "nbformat_minor": 2
}
